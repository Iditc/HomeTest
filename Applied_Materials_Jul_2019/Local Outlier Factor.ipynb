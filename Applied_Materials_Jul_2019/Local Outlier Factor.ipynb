{
 "cells": [
  {
   "cell_type": "markdown",
   "metadata": {},
   "source": [
    "## Local Outlier Factor"
   ]
  },
  {
   "cell_type": "code",
   "execution_count": 1,
   "metadata": {},
   "outputs": [],
   "source": [
    "import warnings\n",
    "warnings.filterwarnings(\"ignore\")"
   ]
  },
  {
   "cell_type": "code",
   "execution_count": 2,
   "metadata": {},
   "outputs": [],
   "source": [
    "import numpy as np\n",
    "import pandas as pd\n",
    "import random, os, math\n",
    "import matplotlib.pyplot as plt\n",
    "from sklearn.datasets import make_classification\n",
    "from sklearn.metrics import confusion_matrix\n",
    "from sklearn.neighbors import LocalOutlierFactor"
   ]
  },
  {
   "cell_type": "code",
   "execution_count": 3,
   "metadata": {},
   "outputs": [],
   "source": [
    "# Read the dataset frof file\n",
    "normal_classes_df = pd.read_csv('normal_classes_df.csv')\n",
    "anomalous_classes_df = pd.read_csv('outliers_classes_df.csv')"
   ]
  },
  {
   "cell_type": "code",
   "execution_count": 4,
   "metadata": {},
   "outputs": [],
   "source": [
    "# Removing tag\n",
    "x = normal_classes_df.drop(['Label'], axis=1)\n",
    "X_outliers = anomalous_classes_df.drop(['Label'], axis=1)"
   ]
  },
  {
   "cell_type": "code",
   "execution_count": 5,
   "metadata": {},
   "outputs": [],
   "source": [
    "# Saving Tags \n",
    "y = normal_classes_df[['Label']].copy()\n",
    "y_outliers = anomalous_classes_df[['Label']].copy()"
   ]
  },
  {
   "cell_type": "code",
   "execution_count": 6,
   "metadata": {},
   "outputs": [
    {
     "data": {
      "text/plain": [
       "LocalOutlierFactor(algorithm='auto', contamination=0.1, leaf_size=30,\n",
       "                   metric='minkowski', metric_params=None, n_jobs=None,\n",
       "                   n_neighbors=20, novelty=True, p=2)"
      ]
     },
     "execution_count": 6,
     "metadata": {},
     "output_type": "execute_result"
    }
   ],
   "source": [
    "# fit the model for Local Outlier Factor\n",
    "%%time\n",
    "clf = LocalOutlierFactor(n_neighbors=20, novelty=True, contamination=0.1)"
   ]
  },
  {
   "cell_type": "code",
   "execution_count": 9,
   "metadata": {},
   "outputs": [
    {
     "name": "stdout",
     "output_type": "stream",
     "text": [
      "Wall time: 35min 8s\n"
     ]
    },
    {
     "data": {
      "text/plain": [
       "LocalOutlierFactor(algorithm='auto', contamination=0.1, leaf_size=30,\n",
       "                   metric='minkowski', metric_params=None, n_jobs=None,\n",
       "                   n_neighbors=20, novelty=True, p=2)"
      ]
     },
     "execution_count": 9,
     "metadata": {},
     "output_type": "execute_result"
    }
   ],
   "source": [
    "%%time\n",
    "clf.fit(x)"
   ]
  },
  {
   "cell_type": "code",
   "execution_count": 10,
   "metadata": {},
   "outputs": [],
   "source": [
    "%%time\n",
    "y_pred_train = clf.predict(x)\n",
    "y_pred_outliers = clf.predict(X_outliers)"
   ]
  },
  {
   "cell_type": "code",
   "execution_count": 11,
   "metadata": {},
   "outputs": [
    {
     "name": "stdout",
     "output_type": "stream",
     "text": [
      "n_error_test      : 3170\n",
      "n_error_outliers  : 202\n"
     ]
    }
   ],
   "source": [
    "n_error_test = y_pred_test[y_pred_test == -1].size\n",
    "n_error_outliers = y_pred_outliers[y_pred_outliers == 1].size\n",
    "print (\"n_error_test      :\", n_error_test)\n",
    "print (\"n_error_outliers  :\", n_error_outliers)"
   ]
  },
  {
   "cell_type": "code",
   "execution_count": 12,
   "metadata": {},
   "outputs": [],
   "source": [
    "cm = np.array([[0, 0], [0, 0]])"
   ]
  },
  {
   "cell_type": "code",
   "execution_count": 13,
   "metadata": {},
   "outputs": [],
   "source": [
    "unique, counts = np.unique(y_pred_outliers, return_counts=True)\n",
    "\n",
    "cm[0] = np.asarray((unique, counts))[1]"
   ]
  },
  {
   "cell_type": "code",
   "execution_count": 14,
   "metadata": {},
   "outputs": [],
   "source": [
    "unique, counts = np.unique(y_pred_train, return_counts=True)\n",
    "\n",
    "cm[1] = np.asarray((unique, counts))[1]"
   ]
  },
  {
   "cell_type": "code",
   "execution_count": 15,
   "metadata": {},
   "outputs": [
    {
     "data": {
      "text/plain": [
       "array([[ 1539,   202],\n",
       "       [ 3170, 32013]])"
      ]
     },
     "execution_count": 15,
     "metadata": {},
     "output_type": "execute_result"
    }
   ],
   "source": [
    "cm"
   ]
  },
  {
   "cell_type": "code",
   "execution_count": 16,
   "metadata": {},
   "outputs": [],
   "source": [
    "TP = cm[1][1]\n",
    "TN = cm[0][0]\n",
    "FN = cm[1][0]\n",
    "FP = cm[0][1]"
   ]
  },
  {
   "cell_type": "code",
   "execution_count": 17,
   "metadata": {},
   "outputs": [],
   "source": [
    "Accuracy = (TP+TN)/(TP+TN+FP+FN)\n",
    "Recall = TP/(TP+FN) # Sensitivity\n",
    "Precision = TP/(TP+FP)\n",
    "F1 = 2*(Precision*Recall/(Precision+Recall))"
   ]
  },
  {
   "cell_type": "code",
   "execution_count": 19,
   "metadata": {},
   "outputs": [
    {
     "name": "stdout",
     "output_type": "stream",
     "text": [
      "Accuracy   : 0.9086772830679233\n",
      "Recall     : 0.9098996674530313\n",
      "Precision  : 0.9937296290547881\n",
      "F1-score   : 0.9499688418053949\n"
     ]
    }
   ],
   "source": [
    "print (\"Accuracy   :\", Accuracy)\n",
    "print (\"Recall     :\", Recall)\n",
    "print (\"Precision  :\", Precision)\n",
    "print (\"F1-score   :\", F1)"
   ]
  },
  {
   "cell_type": "code",
   "execution_count": 20,
   "metadata": {},
   "outputs": [
    {
     "data": {
      "image/png": "[encoded data removed]",
      "text/plain": [
       "<Figure size 432x288 with 1 Axes>"
      ]
     },
     "metadata": {
      "needs_background": "light"
     },
     "output_type": "display_data"
    }
   ],
   "source": [
    "plt.clf()\n",
    "plt.imshow(cm, interpolation='nearest', cmap=plt.cm.Blues)\n",
    "classNames = ['Anomalous','Normal']\n",
    "plt.title('Anomalous Vs Normal Confusion Matrix')\n",
    "plt.ylabel('True label')\n",
    "plt.xlabel('Predicted label')\n",
    "tick_marks = np.arange(len(classNames))\n",
    "plt.xticks(tick_marks, classNames)\n",
    "plt.yticks(tick_marks, classNames)\n",
    "s = [['TN','FP'], ['FN', 'TP']]\n",
    "for i in range(2):\n",
    "    for j in range(2):\n",
    "        plt.text(j-0.25,i, str(s[i][j])+\" = \"+str(cm[i][j]))\n",
    "plt.show()"
   ]
  },
  {
   "cell_type": "code",
   "execution_count": 21,
   "metadata": {},
   "outputs": [],
   "source": [
    "# reshape for visualization\n",
    "X = x.values.reshape(len(x.index), 28, 28)\n",
    "x_outliers = X_outliers.values.reshape(len(X_outliers.index), 28, 28)"
   ]
  },
  {
   "cell_type": "markdown",
   "metadata": {},
   "source": [
    "# Normal examples\n",
    "### Normal prediction good in blue\n",
    "### Normal prediction error in red"
   ]
  },
  {
   "cell_type": "code",
   "execution_count": 22,
   "metadata": {},
   "outputs": [
    {
     "data": {
      "image/png": "[encoded data removed]",
      "text/plain": [
       "<Figure size 432x288 with 20 Axes>"
      ]
     },
     "metadata": {
      "needs_background": "light"
     },
     "output_type": "display_data"
    }
   ],
   "source": [
    "ROW = 4\n",
    "COLUMN = 5\n",
    "for i in range(ROW * COLUMN):\n",
    "    #print (y.iloc[i].values[0])\n",
    "    # train[i][0] is i-th image data with size 28x28\n",
    "    image = X[i].reshape(28, 28)   # not necessary to reshape if ndim is set to 2\n",
    "    plt.subplot(ROW, COLUMN, i+1)          # subplot with size (width 3, height 5)\n",
    "    if y_pred_train[i] == -1:\n",
    "        plt.imshow(image, cmap='Reds')  # cmap='gray' is for black and white picture.\n",
    "    else:    \n",
    "        plt.imshow(image, cmap='Blues')  # cmap='gray' is for black and white picture.\n",
    "    # train[i][1] is i-th digit label\n",
    "    plt.title('label = {}'.format(y.iloc[i].values[0]))\n",
    "    #plt.title('label = {}'.format(y_pred_train[i]))\n",
    "    plt.axis('off')  # do not show axis value\n",
    "plt.tight_layout()   # automatic padding between subplots\n",
    "#plt.savefig('mnist_plot.png')\n",
    "plt.show()"
   ]
  },
  {
   "cell_type": "markdown",
   "metadata": {},
   "source": [
    "# Outliers examples \n",
    "### Outliers prediction good in blue\n",
    "### Outliers prediction error in red"
   ]
  },
  {
   "cell_type": "code",
   "execution_count": 23,
   "metadata": {},
   "outputs": [
    {
     "data": {
      "image/png": "[encoded data removed]",
      "text/plain": [
       "<Figure size 432x288 with 20 Axes>"
      ]
     },
     "metadata": {
      "needs_background": "light"
     },
     "output_type": "display_data"
    }
   ],
   "source": [
    "ROW = 4\n",
    "COLUMN = 5\n",
    "for i in range(ROW * COLUMN):\n",
    "    image = x_outliers[i].reshape(28, 28)   # not necessary to reshape if ndim is set to 2\n",
    "    plt.subplot(ROW, COLUMN, i+1)          # subplot with size (width 3, height 5)\n",
    "    if y_pred_outliers[i] == 1:\n",
    "        plt.imshow(image, cmap='Reds')  # cmap='gray' is for Red and white picture.\n",
    "        plt.title('label = {}'.format(y_outliers.iloc[i].values[0]))\n",
    "    else:    \n",
    "        plt.imshow(image, cmap='Blues')  # cmap='Blues' is for Blue and white picture.\n",
    "        plt.title('label = {}'.format(y_outliers.iloc[i].values[0]))\n",
    "    plt.axis('off')  # do not show axis value\n",
    "plt.tight_layout()   # automatic padding between subplots\n",
    "plt.show()"
   ]
  },
  {
   "cell_type": "code",
   "execution_count": null,
   "metadata": {},
   "outputs": [],
   "source": []
  }
 ],
 "metadata": {
  "kernelspec": {
   "display_name": "Python 3",
   "language": "python",
   "name": "python3"
  },
  "language_info": {
   "codemirror_mode": {
    "name": "ipython",
    "version": 3
   },
   "file_extension": ".py",
   "mimetype": "text/x-python",
   "name": "python",
   "nbconvert_exporter": "python",
   "pygments_lexer": "ipython3",
   "version": "3.7.3"
  }
 },
 "nbformat": 4,
 "nbformat_minor": 2
}
