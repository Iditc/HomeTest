{
 "cells": [
  {
   "cell_type": "code",
   "execution_count": 1,
   "id": "7b63b0c2",
   "metadata": {},
   "outputs": [],
   "source": [
    "import pandas as pd\n",
    "import matplotlib.pyplot as plt\n",
    "#import seaborn as sns\n",
    "from sklearn.model_selection import train_test_split\n",
    "from sklearn.ensemble import RandomForestRegressor\n",
    "from sklearn.metrics import mean_squared_error\n",
    "from sklearn.preprocessing import MinMaxScaler, MaxAbsScaler\n",
    "from sklearn.metrics import mean_absolute_error\n",
    "from sklearn.feature_selection import SelectFromModel\n",
    "from sklearn.linear_model import LogisticRegression\n",
    "from sklearn.linear_model import LinearRegression, RidgeCV, LassoCV\n",
    "from sklearn.metrics import mean_squared_error, r2_score\n",
    "import numpy as np\n",
    "import shap"
   ]
  },
  {
   "cell_type": "code",
   "execution_count": 3,
   "id": "9c4b29b0",
   "metadata": {},
   "outputs": [],
   "source": [
    "df = pd.read_csv('seasonal_dataset.csv')"
   ]
  },
  {
   "cell_type": "code",
   "execution_count": 4,
   "id": "c68f6af7",
   "metadata": {},
   "outputs": [
    {
     "data": {
      "text/plain": [
       "(3236, 111)"
      ]
     },
     "execution_count": 4,
     "metadata": {},
     "output_type": "execute_result"
    }
   ],
   "source": [
    "df.shape"
   ]
  },
  {
   "cell_type": "markdown",
   "id": "3491b588",
   "metadata": {},
   "source": [
    "# Feature cleaning"
   ]
  },
  {
   "cell_type": "markdown",
   "id": "20f625e0",
   "metadata": {},
   "source": [
    "### drop all one value feature "
   ]
  },
  {
   "cell_type": "code",
   "execution_count": 5,
   "id": "35e3fac3",
   "metadata": {},
   "outputs": [],
   "source": [
    "for col in df.columns:\n",
    "    if df[col].value_counts().count() == 1:\n",
    "        df.drop([col], axis=1, inplace=True)"
   ]
  },
  {
   "cell_type": "markdown",
   "id": "075ff6d8",
   "metadata": {},
   "source": [
    "### drop anomalies in \"Sitlav - Soybeans - Yield - KG/Ha\""
   ]
  },
  {
   "cell_type": "code",
   "execution_count": 6,
   "id": "f040036f",
   "metadata": {},
   "outputs": [],
   "source": [
    "drop_anomalies_list = df[df['Sitlav - Soybeans - Yield - KG/Ha'] >= 10000]\n",
    "df = df.drop([987, 1451], axis=0)"
   ]
  },
  {
   "cell_type": "markdown",
   "id": "352837b9",
   "metadata": {},
   "source": [
    "### Drop row if \"plot code\" is null"
   ]
  },
  {
   "cell_type": "code",
   "execution_count": 7,
   "id": "9e4152ec",
   "metadata": {},
   "outputs": [
    {
     "data": {
      "text/plain": [
       "False    3218\n",
       "True       16\n",
       "Name: plot code, dtype: int64"
      ]
     },
     "execution_count": 7,
     "metadata": {},
     "output_type": "execute_result"
    }
   ],
   "source": [
    "df['plot code'].isnull().value_counts()"
   ]
  },
  {
   "cell_type": "code",
   "execution_count": 8,
   "id": "04216ecc",
   "metadata": {},
   "outputs": [],
   "source": [
    "df = df[df['plot code'].notna()]"
   ]
  },
  {
   "cell_type": "code",
   "execution_count": 9,
   "id": "2e27e57b",
   "metadata": {},
   "outputs": [
    {
     "data": {
      "text/plain": [
       "False    3218\n",
       "Name: plot code, dtype: int64"
      ]
     },
     "execution_count": 9,
     "metadata": {},
     "output_type": "execute_result"
    }
   ],
   "source": [
    "df['plot code'].isnull().value_counts()"
   ]
  },
  {
   "cell_type": "code",
   "execution_count": 10,
   "id": "b8722e20",
   "metadata": {},
   "outputs": [
    {
     "data": {
      "text/plain": [
       "False    3218\n",
       "Name: Season code, dtype: int64"
      ]
     },
     "execution_count": 10,
     "metadata": {},
     "output_type": "execute_result"
    }
   ],
   "source": [
    "df['Season code'].isnull().value_counts()"
   ]
  },
  {
   "cell_type": "markdown",
   "id": "6d1fc090",
   "metadata": {},
   "source": [
    "## Feature Engineering"
   ]
  },
  {
   "cell_type": "markdown",
   "id": "013e13b8",
   "metadata": {},
   "source": [
    "### The categorical variables prep"
   ]
  },
  {
   "cell_type": "code",
   "execution_count": 11,
   "id": "a5b2c3ca",
   "metadata": {},
   "outputs": [
    {
     "name": "stdout",
     "output_type": "stream",
     "text": [
      "There are 3 categorical variables\n",
      "The categorical variables are : ['plot code', 'Season code', 'CLASSE_DOM']\n"
     ]
    }
   ],
   "source": [
    "categorical = [var for var in df.columns if df[var].dtype=='O']\n",
    "print('There are {} categorical variables'.format(len(categorical)))\n",
    "print('The categorical variables are :', categorical)"
   ]
  },
  {
   "cell_type": "code",
   "execution_count": 12,
   "id": "6d0a7a68",
   "metadata": {},
   "outputs": [],
   "source": [
    "def one_hot_encoding(pandas_series):    \n",
    "    # Apply one-hot encoding\n",
    "    one_hot = pd.get_dummies(pandas_series)\n",
    "    return(one_hot)"
   ]
  },
  {
   "cell_type": "markdown",
   "id": "a5a2a023",
   "metadata": {},
   "source": [
    "#### CLASSE_DOM"
   ]
  },
  {
   "cell_type": "code",
   "execution_count": 13,
   "id": "9144be47",
   "metadata": {},
   "outputs": [
    {
     "data": {
      "text/plain": [
       "LVAd    1322\n",
       "LVd      750\n",
       "RQo      675\n",
       "FFc      183\n",
       "PVAd     152\n",
       "RLd      107\n",
       "LAd       23\n",
       "PVe        6\n",
       "Name: CLASSE_DOM, dtype: int64"
      ]
     },
     "execution_count": 13,
     "metadata": {},
     "output_type": "execute_result"
    }
   ],
   "source": [
    "df['CLASSE_DOM'].value_counts()"
   ]
  },
  {
   "cell_type": "code",
   "execution_count": 14,
   "id": "d5b09fc3",
   "metadata": {},
   "outputs": [
    {
     "data": {
      "text/plain": [
       "(3218, 110)"
      ]
     },
     "execution_count": 14,
     "metadata": {},
     "output_type": "execute_result"
    }
   ],
   "source": [
    "df.shape"
   ]
  },
  {
   "cell_type": "code",
   "execution_count": 15,
   "id": "e5375b55",
   "metadata": {},
   "outputs": [],
   "source": [
    "df = pd.concat([df, one_hot_encoding(df['CLASSE_DOM'])], axis=1)\n",
    "df = df.drop(['CLASSE_DOM'], axis=1)"
   ]
  },
  {
   "cell_type": "code",
   "execution_count": 16,
   "id": "52798219",
   "metadata": {},
   "outputs": [
    {
     "data": {
      "text/plain": [
       "(3218, 117)"
      ]
     },
     "execution_count": 16,
     "metadata": {},
     "output_type": "execute_result"
    }
   ],
   "source": [
    "df.shape"
   ]
  },
  {
   "cell_type": "markdown",
   "id": "382cc45b",
   "metadata": {},
   "source": [
    "#### plot code"
   ]
  },
  {
   "cell_type": "code",
   "execution_count": 17,
   "id": "076475c3",
   "metadata": {},
   "outputs": [],
   "source": [
    "from sklearn.preprocessing import LabelEncoder\n",
    "# Label encoding: In this method, each category is assigned a unique numerical value. \n",
    "def Label_Encoder(pandas_series):\n",
    "    le = LabelEncoder()\n",
    "    label_encoded = le.fit_transform(pandas_series)\n",
    "    return(label_encoded)"
   ]
  },
  {
   "cell_type": "code",
   "execution_count": 18,
   "id": "2ec53b92",
   "metadata": {},
   "outputs": [
    {
     "data": {
      "text/plain": [
       "AL549648Z    3\n",
       "AL549261Z    3\n",
       "AL549294Z    3\n",
       "AL549290Z    3\n",
       "AL549284Z    3\n",
       "            ..\n",
       "AL549751Z    1\n",
       "AL549752Z    1\n",
       "AL551731Z    1\n",
       "AL549753Z    1\n",
       "AL551419Z    1\n",
       "Name: plot code, Length: 1378, dtype: int64"
      ]
     },
     "execution_count": 18,
     "metadata": {},
     "output_type": "execute_result"
    }
   ],
   "source": [
    "df['plot code'].value_counts()"
   ]
  },
  {
   "cell_type": "code",
   "execution_count": 19,
   "id": "a3e55412",
   "metadata": {},
   "outputs": [],
   "source": [
    "df['plot code'] = Label_Encoder(df['plot code'])"
   ]
  },
  {
   "cell_type": "code",
   "execution_count": 20,
   "id": "99595966",
   "metadata": {},
   "outputs": [
    {
     "data": {
      "text/plain": [
       "919     3\n",
       "688     3\n",
       "719     3\n",
       "715     3\n",
       "709     3\n",
       "       ..\n",
       "929     1\n",
       "930     1\n",
       "1263    1\n",
       "931     1\n",
       "1146    1\n",
       "Name: plot code, Length: 1378, dtype: int64"
      ]
     },
     "execution_count": 20,
     "metadata": {},
     "output_type": "execute_result"
    }
   ],
   "source": [
    "df['plot code'].value_counts()"
   ]
  },
  {
   "cell_type": "code",
   "execution_count": 21,
   "id": "d80cc327",
   "metadata": {},
   "outputs": [
    {
     "data": {
      "text/plain": [
       "0"
      ]
     },
     "execution_count": 21,
     "metadata": {},
     "output_type": "execute_result"
    }
   ],
   "source": [
    "df['Sitlav - Soybeans - Yield - KG/Ha'].isnull().sum()"
   ]
  },
  {
   "cell_type": "markdown",
   "id": "5843edb9",
   "metadata": {},
   "source": [
    "#### Fill missing values"
   ]
  },
  {
   "cell_type": "code",
   "execution_count": 22,
   "id": "24232f8e",
   "metadata": {},
   "outputs": [],
   "source": [
    "for col in df.columns:\n",
    "    s = df[col].value_counts(normalize=True)\n",
    "    missing = df[col].isnull()\n",
    "    df.loc[missing,col] = np.random.choice(s.index, size=len(df[missing]),p=s.values)"
   ]
  },
  {
   "cell_type": "code",
   "execution_count": 23,
   "id": "64255ef9",
   "metadata": {},
   "outputs": [
    {
     "data": {
      "text/plain": [
       "plot code                            0\n",
       "Season code                          0\n",
       "Sitlav - Soybeans - Yield - KG/Ha    0\n",
       "mean_savi2                           0\n",
       "min_savi2                            0\n",
       "                                    ..\n",
       "LVd                                  0\n",
       "PVAd                                 0\n",
       "PVe                                  0\n",
       "RLd                                  0\n",
       "RQo                                  0\n",
       "Length: 117, dtype: int64"
      ]
     },
     "execution_count": 23,
     "metadata": {},
     "output_type": "execute_result"
    }
   ],
   "source": [
    "df.isnull().sum()"
   ]
  },
  {
   "cell_type": "code",
   "execution_count": 24,
   "id": "cb13e524",
   "metadata": {},
   "outputs": [
    {
     "data": {
      "text/html": [
       "<div>\n",
       "<style scoped>\n",
       "    .dataframe tbody tr th:only-of-type {\n",
       "        vertical-align: middle;\n",
       "    }\n",
       "\n",
       "    .dataframe tbody tr th {\n",
       "        vertical-align: top;\n",
       "    }\n",
       "\n",
       "    .dataframe thead th {\n",
       "        text-align: right;\n",
       "    }\n",
       "</style>\n",
       "<table border=\"1\" class=\"dataframe\">\n",
       "  <thead>\n",
       "    <tr style=\"text-align: right;\">\n",
       "      <th></th>\n",
       "      <th>plot code</th>\n",
       "      <th>Sitlav - Soybeans - Yield - KG/Ha</th>\n",
       "      <th>mean_savi2</th>\n",
       "      <th>min_savi2</th>\n",
       "      <th>max_savi2</th>\n",
       "      <th>skew_savi2</th>\n",
       "      <th>kurt_savi2</th>\n",
       "      <th>std_savi2</th>\n",
       "      <th>mean_ndwi</th>\n",
       "      <th>min_ndwi</th>\n",
       "      <th>...</th>\n",
       "      <th>skew_max temp</th>\n",
       "      <th>kurt_max temp</th>\n",
       "      <th>FFc</th>\n",
       "      <th>LAd</th>\n",
       "      <th>LVAd</th>\n",
       "      <th>LVd</th>\n",
       "      <th>PVAd</th>\n",
       "      <th>PVe</th>\n",
       "      <th>RLd</th>\n",
       "      <th>RQo</th>\n",
       "    </tr>\n",
       "  </thead>\n",
       "  <tbody>\n",
       "    <tr>\n",
       "      <th>count</th>\n",
       "      <td>3218.000000</td>\n",
       "      <td>3218.000000</td>\n",
       "      <td>3218.000000</td>\n",
       "      <td>3218.000000</td>\n",
       "      <td>3218.000000</td>\n",
       "      <td>3218.000000</td>\n",
       "      <td>3218.000000</td>\n",
       "      <td>3218.000000</td>\n",
       "      <td>3218.000000</td>\n",
       "      <td>3218.000000</td>\n",
       "      <td>...</td>\n",
       "      <td>3218.000000</td>\n",
       "      <td>3218.000000</td>\n",
       "      <td>3218.000000</td>\n",
       "      <td>3218.000000</td>\n",
       "      <td>3218.000000</td>\n",
       "      <td>3218.000000</td>\n",
       "      <td>3218.000000</td>\n",
       "      <td>3218.000000</td>\n",
       "      <td>3218.000000</td>\n",
       "      <td>3218.000000</td>\n",
       "    </tr>\n",
       "    <tr>\n",
       "      <th>mean</th>\n",
       "      <td>610.937539</td>\n",
       "      <td>3576.861467</td>\n",
       "      <td>0.028669</td>\n",
       "      <td>0.019006</td>\n",
       "      <td>0.037503</td>\n",
       "      <td>-0.154753</td>\n",
       "      <td>-1.005721</td>\n",
       "      <td>0.009081</td>\n",
       "      <td>-0.624618</td>\n",
       "      <td>-0.780838</td>\n",
       "      <td>...</td>\n",
       "      <td>-0.172593</td>\n",
       "      <td>-0.410390</td>\n",
       "      <td>0.056868</td>\n",
       "      <td>0.007147</td>\n",
       "      <td>0.410814</td>\n",
       "      <td>0.233064</td>\n",
       "      <td>0.047234</td>\n",
       "      <td>0.001865</td>\n",
       "      <td>0.033250</td>\n",
       "      <td>0.209758</td>\n",
       "    </tr>\n",
       "    <tr>\n",
       "      <th>std</th>\n",
       "      <td>365.251800</td>\n",
       "      <td>660.466253</td>\n",
       "      <td>0.004676</td>\n",
       "      <td>0.005630</td>\n",
       "      <td>0.005707</td>\n",
       "      <td>1.031666</td>\n",
       "      <td>2.642147</td>\n",
       "      <td>0.003466</td>\n",
       "      <td>0.071646</td>\n",
       "      <td>0.069515</td>\n",
       "      <td>...</td>\n",
       "      <td>0.353708</td>\n",
       "      <td>0.414356</td>\n",
       "      <td>0.231625</td>\n",
       "      <td>0.084252</td>\n",
       "      <td>0.492058</td>\n",
       "      <td>0.422848</td>\n",
       "      <td>0.212173</td>\n",
       "      <td>0.043146</td>\n",
       "      <td>0.179318</td>\n",
       "      <td>0.407199</td>\n",
       "    </tr>\n",
       "    <tr>\n",
       "      <th>min</th>\n",
       "      <td>0.000000</td>\n",
       "      <td>285.900000</td>\n",
       "      <td>0.008726</td>\n",
       "      <td>0.002392</td>\n",
       "      <td>0.012534</td>\n",
       "      <td>-2.125023</td>\n",
       "      <td>-5.999652</td>\n",
       "      <td>0.000051</td>\n",
       "      <td>-0.837559</td>\n",
       "      <td>-0.880751</td>\n",
       "      <td>...</td>\n",
       "      <td>-1.036083</td>\n",
       "      <td>-1.224658</td>\n",
       "      <td>0.000000</td>\n",
       "      <td>0.000000</td>\n",
       "      <td>0.000000</td>\n",
       "      <td>0.000000</td>\n",
       "      <td>0.000000</td>\n",
       "      <td>0.000000</td>\n",
       "      <td>0.000000</td>\n",
       "      <td>0.000000</td>\n",
       "    </tr>\n",
       "    <tr>\n",
       "      <th>25%</th>\n",
       "      <td>294.250000</td>\n",
       "      <td>3235.500000</td>\n",
       "      <td>0.025604</td>\n",
       "      <td>0.015975</td>\n",
       "      <td>0.034615</td>\n",
       "      <td>-0.975815</td>\n",
       "      <td>-2.849101</td>\n",
       "      <td>0.006964</td>\n",
       "      <td>-0.669787</td>\n",
       "      <td>-0.826073</td>\n",
       "      <td>...</td>\n",
       "      <td>-0.445837</td>\n",
       "      <td>-0.682809</td>\n",
       "      <td>0.000000</td>\n",
       "      <td>0.000000</td>\n",
       "      <td>0.000000</td>\n",
       "      <td>0.000000</td>\n",
       "      <td>0.000000</td>\n",
       "      <td>0.000000</td>\n",
       "      <td>0.000000</td>\n",
       "      <td>0.000000</td>\n",
       "    </tr>\n",
       "    <tr>\n",
       "      <th>50%</th>\n",
       "      <td>595.000000</td>\n",
       "      <td>3600.000000</td>\n",
       "      <td>0.028527</td>\n",
       "      <td>0.017814</td>\n",
       "      <td>0.038156</td>\n",
       "      <td>-0.138377</td>\n",
       "      <td>-1.422820</td>\n",
       "      <td>0.009405</td>\n",
       "      <td>-0.625887</td>\n",
       "      <td>-0.796701</td>\n",
       "      <td>...</td>\n",
       "      <td>-0.180206</td>\n",
       "      <td>-0.468072</td>\n",
       "      <td>0.000000</td>\n",
       "      <td>0.000000</td>\n",
       "      <td>0.000000</td>\n",
       "      <td>0.000000</td>\n",
       "      <td>0.000000</td>\n",
       "      <td>0.000000</td>\n",
       "      <td>0.000000</td>\n",
       "      <td>0.000000</td>\n",
       "    </tr>\n",
       "    <tr>\n",
       "      <th>75%</th>\n",
       "      <td>895.750000</td>\n",
       "      <td>3965.950000</td>\n",
       "      <td>0.031523</td>\n",
       "      <td>0.020183</td>\n",
       "      <td>0.041093</td>\n",
       "      <td>0.549419</td>\n",
       "      <td>1.228256</td>\n",
       "      <td>0.011456</td>\n",
       "      <td>-0.583248</td>\n",
       "      <td>-0.758747</td>\n",
       "      <td>...</td>\n",
       "      <td>0.108718</td>\n",
       "      <td>-0.193907</td>\n",
       "      <td>0.000000</td>\n",
       "      <td>0.000000</td>\n",
       "      <td>1.000000</td>\n",
       "      <td>0.000000</td>\n",
       "      <td>0.000000</td>\n",
       "      <td>0.000000</td>\n",
       "      <td>0.000000</td>\n",
       "      <td>0.000000</td>\n",
       "    </tr>\n",
       "    <tr>\n",
       "      <th>max</th>\n",
       "      <td>1377.000000</td>\n",
       "      <td>10960.300000</td>\n",
       "      <td>0.046577</td>\n",
       "      <td>0.046411</td>\n",
       "      <td>0.053486</td>\n",
       "      <td>1.997825</td>\n",
       "      <td>4.592682</td>\n",
       "      <td>0.024836</td>\n",
       "      <td>-0.304926</td>\n",
       "      <td>-0.304926</td>\n",
       "      <td>...</td>\n",
       "      <td>0.773722</td>\n",
       "      <td>2.037502</td>\n",
       "      <td>1.000000</td>\n",
       "      <td>1.000000</td>\n",
       "      <td>1.000000</td>\n",
       "      <td>1.000000</td>\n",
       "      <td>1.000000</td>\n",
       "      <td>1.000000</td>\n",
       "      <td>1.000000</td>\n",
       "      <td>1.000000</td>\n",
       "    </tr>\n",
       "  </tbody>\n",
       "</table>\n",
       "<p>8 rows × 116 columns</p>\n",
       "</div>"
      ],
      "text/plain": [
       "         plot code  Sitlav - Soybeans - Yield - KG/Ha   mean_savi2  \\\n",
       "count  3218.000000                        3218.000000  3218.000000   \n",
       "mean    610.937539                        3576.861467     0.028669   \n",
       "std     365.251800                         660.466253     0.004676   \n",
       "min       0.000000                         285.900000     0.008726   \n",
       "25%     294.250000                        3235.500000     0.025604   \n",
       "50%     595.000000                        3600.000000     0.028527   \n",
       "75%     895.750000                        3965.950000     0.031523   \n",
       "max    1377.000000                       10960.300000     0.046577   \n",
       "\n",
       "         min_savi2    max_savi2   skew_savi2   kurt_savi2    std_savi2  \\\n",
       "count  3218.000000  3218.000000  3218.000000  3218.000000  3218.000000   \n",
       "mean      0.019006     0.037503    -0.154753    -1.005721     0.009081   \n",
       "std       0.005630     0.005707     1.031666     2.642147     0.003466   \n",
       "min       0.002392     0.012534    -2.125023    -5.999652     0.000051   \n",
       "25%       0.015975     0.034615    -0.975815    -2.849101     0.006964   \n",
       "50%       0.017814     0.038156    -0.138377    -1.422820     0.009405   \n",
       "75%       0.020183     0.041093     0.549419     1.228256     0.011456   \n",
       "max       0.046411     0.053486     1.997825     4.592682     0.024836   \n",
       "\n",
       "         mean_ndwi     min_ndwi  ...  skew_max temp  kurt_max temp  \\\n",
       "count  3218.000000  3218.000000  ...    3218.000000    3218.000000   \n",
       "mean     -0.624618    -0.780838  ...      -0.172593      -0.410390   \n",
       "std       0.071646     0.069515  ...       0.353708       0.414356   \n",
       "min      -0.837559    -0.880751  ...      -1.036083      -1.224658   \n",
       "25%      -0.669787    -0.826073  ...      -0.445837      -0.682809   \n",
       "50%      -0.625887    -0.796701  ...      -0.180206      -0.468072   \n",
       "75%      -0.583248    -0.758747  ...       0.108718      -0.193907   \n",
       "max      -0.304926    -0.304926  ...       0.773722       2.037502   \n",
       "\n",
       "               FFc          LAd         LVAd          LVd         PVAd  \\\n",
       "count  3218.000000  3218.000000  3218.000000  3218.000000  3218.000000   \n",
       "mean      0.056868     0.007147     0.410814     0.233064     0.047234   \n",
       "std       0.231625     0.084252     0.492058     0.422848     0.212173   \n",
       "min       0.000000     0.000000     0.000000     0.000000     0.000000   \n",
       "25%       0.000000     0.000000     0.000000     0.000000     0.000000   \n",
       "50%       0.000000     0.000000     0.000000     0.000000     0.000000   \n",
       "75%       0.000000     0.000000     1.000000     0.000000     0.000000   \n",
       "max       1.000000     1.000000     1.000000     1.000000     1.000000   \n",
       "\n",
       "               PVe          RLd          RQo  \n",
       "count  3218.000000  3218.000000  3218.000000  \n",
       "mean      0.001865     0.033250     0.209758  \n",
       "std       0.043146     0.179318     0.407199  \n",
       "min       0.000000     0.000000     0.000000  \n",
       "25%       0.000000     0.000000     0.000000  \n",
       "50%       0.000000     0.000000     0.000000  \n",
       "75%       0.000000     0.000000     0.000000  \n",
       "max       1.000000     1.000000     1.000000  \n",
       "\n",
       "[8 rows x 116 columns]"
      ]
     },
     "execution_count": 24,
     "metadata": {},
     "output_type": "execute_result"
    }
   ],
   "source": [
    "df.describe()"
   ]
  },
  {
   "cell_type": "code",
   "execution_count": 25,
   "id": "5c4a620a",
   "metadata": {},
   "outputs": [
    {
     "data": {
      "text/html": [
       "<div>\n",
       "<style scoped>\n",
       "    .dataframe tbody tr th:only-of-type {\n",
       "        vertical-align: middle;\n",
       "    }\n",
       "\n",
       "    .dataframe tbody tr th {\n",
       "        vertical-align: top;\n",
       "    }\n",
       "\n",
       "    .dataframe thead th {\n",
       "        text-align: right;\n",
       "    }\n",
       "</style>\n",
       "<table border=\"1\" class=\"dataframe\">\n",
       "  <thead>\n",
       "    <tr style=\"text-align: right;\">\n",
       "      <th></th>\n",
       "      <th>plot code</th>\n",
       "      <th>Season code</th>\n",
       "      <th>Sitlav - Soybeans - Yield - KG/Ha</th>\n",
       "      <th>mean_savi2</th>\n",
       "      <th>min_savi2</th>\n",
       "      <th>max_savi2</th>\n",
       "      <th>skew_savi2</th>\n",
       "      <th>kurt_savi2</th>\n",
       "      <th>std_savi2</th>\n",
       "      <th>mean_ndwi</th>\n",
       "      <th>...</th>\n",
       "      <th>skew_max temp</th>\n",
       "      <th>kurt_max temp</th>\n",
       "      <th>FFc</th>\n",
       "      <th>LAd</th>\n",
       "      <th>LVAd</th>\n",
       "      <th>LVd</th>\n",
       "      <th>PVAd</th>\n",
       "      <th>PVe</th>\n",
       "      <th>RLd</th>\n",
       "      <th>RQo</th>\n",
       "    </tr>\n",
       "  </thead>\n",
       "  <tbody>\n",
       "    <tr>\n",
       "      <th>0</th>\n",
       "      <td>0</td>\n",
       "      <td>CR196IKKIJ5Z</td>\n",
       "      <td>3789.8</td>\n",
       "      <td>1</td>\n",
       "      <td>1</td>\n",
       "      <td>1</td>\n",
       "      <td>1</td>\n",
       "      <td>1</td>\n",
       "      <td>1</td>\n",
       "      <td>1</td>\n",
       "      <td>...</td>\n",
       "      <td>1</td>\n",
       "      <td>1</td>\n",
       "      <td>1</td>\n",
       "      <td>1</td>\n",
       "      <td>1</td>\n",
       "      <td>1</td>\n",
       "      <td>1</td>\n",
       "      <td>1</td>\n",
       "      <td>1</td>\n",
       "      <td>1</td>\n",
       "    </tr>\n",
       "    <tr>\n",
       "      <th>1</th>\n",
       "      <td>0</td>\n",
       "      <td>CR196LWQ0DXZ</td>\n",
       "      <td>4666.8</td>\n",
       "      <td>1</td>\n",
       "      <td>1</td>\n",
       "      <td>1</td>\n",
       "      <td>1</td>\n",
       "      <td>1</td>\n",
       "      <td>1</td>\n",
       "      <td>1</td>\n",
       "      <td>...</td>\n",
       "      <td>1</td>\n",
       "      <td>1</td>\n",
       "      <td>1</td>\n",
       "      <td>1</td>\n",
       "      <td>1</td>\n",
       "      <td>1</td>\n",
       "      <td>1</td>\n",
       "      <td>1</td>\n",
       "      <td>1</td>\n",
       "      <td>1</td>\n",
       "    </tr>\n",
       "    <tr>\n",
       "      <th>2</th>\n",
       "      <td>0</td>\n",
       "      <td>CR196PUJKZ</td>\n",
       "      <td>2451.5</td>\n",
       "      <td>1</td>\n",
       "      <td>1</td>\n",
       "      <td>1</td>\n",
       "      <td>1</td>\n",
       "      <td>1</td>\n",
       "      <td>1</td>\n",
       "      <td>1</td>\n",
       "      <td>...</td>\n",
       "      <td>1</td>\n",
       "      <td>1</td>\n",
       "      <td>1</td>\n",
       "      <td>1</td>\n",
       "      <td>1</td>\n",
       "      <td>1</td>\n",
       "      <td>1</td>\n",
       "      <td>1</td>\n",
       "      <td>1</td>\n",
       "      <td>1</td>\n",
       "    </tr>\n",
       "    <tr>\n",
       "      <th>3</th>\n",
       "      <td>1</td>\n",
       "      <td>CR196J6Q05CZ</td>\n",
       "      <td>4090.0</td>\n",
       "      <td>1</td>\n",
       "      <td>1</td>\n",
       "      <td>1</td>\n",
       "      <td>1</td>\n",
       "      <td>1</td>\n",
       "      <td>1</td>\n",
       "      <td>1</td>\n",
       "      <td>...</td>\n",
       "      <td>1</td>\n",
       "      <td>1</td>\n",
       "      <td>1</td>\n",
       "      <td>1</td>\n",
       "      <td>1</td>\n",
       "      <td>1</td>\n",
       "      <td>1</td>\n",
       "      <td>1</td>\n",
       "      <td>1</td>\n",
       "      <td>1</td>\n",
       "    </tr>\n",
       "    <tr>\n",
       "      <th>4</th>\n",
       "      <td>1</td>\n",
       "      <td>CR196P7HHZ</td>\n",
       "      <td>3930.6</td>\n",
       "      <td>1</td>\n",
       "      <td>1</td>\n",
       "      <td>1</td>\n",
       "      <td>1</td>\n",
       "      <td>1</td>\n",
       "      <td>1</td>\n",
       "      <td>1</td>\n",
       "      <td>...</td>\n",
       "      <td>1</td>\n",
       "      <td>1</td>\n",
       "      <td>1</td>\n",
       "      <td>1</td>\n",
       "      <td>1</td>\n",
       "      <td>1</td>\n",
       "      <td>1</td>\n",
       "      <td>1</td>\n",
       "      <td>1</td>\n",
       "      <td>1</td>\n",
       "    </tr>\n",
       "    <tr>\n",
       "      <th>...</th>\n",
       "      <td>...</td>\n",
       "      <td>...</td>\n",
       "      <td>...</td>\n",
       "      <td>...</td>\n",
       "      <td>...</td>\n",
       "      <td>...</td>\n",
       "      <td>...</td>\n",
       "      <td>...</td>\n",
       "      <td>...</td>\n",
       "      <td>...</td>\n",
       "      <td>...</td>\n",
       "      <td>...</td>\n",
       "      <td>...</td>\n",
       "      <td>...</td>\n",
       "      <td>...</td>\n",
       "      <td>...</td>\n",
       "      <td>...</td>\n",
       "      <td>...</td>\n",
       "      <td>...</td>\n",
       "      <td>...</td>\n",
       "      <td>...</td>\n",
       "    </tr>\n",
       "    <tr>\n",
       "      <th>3213</th>\n",
       "      <td>1373</td>\n",
       "      <td>CR196NRQ0NHZ</td>\n",
       "      <td>3386.2</td>\n",
       "      <td>1</td>\n",
       "      <td>1</td>\n",
       "      <td>1</td>\n",
       "      <td>1</td>\n",
       "      <td>1</td>\n",
       "      <td>1</td>\n",
       "      <td>1</td>\n",
       "      <td>...</td>\n",
       "      <td>1</td>\n",
       "      <td>1</td>\n",
       "      <td>1</td>\n",
       "      <td>1</td>\n",
       "      <td>1</td>\n",
       "      <td>1</td>\n",
       "      <td>1</td>\n",
       "      <td>1</td>\n",
       "      <td>1</td>\n",
       "      <td>1</td>\n",
       "    </tr>\n",
       "    <tr>\n",
       "      <th>3214</th>\n",
       "      <td>1374</td>\n",
       "      <td>CR196ILEIG8Z</td>\n",
       "      <td>4283.5</td>\n",
       "      <td>1</td>\n",
       "      <td>1</td>\n",
       "      <td>1</td>\n",
       "      <td>1</td>\n",
       "      <td>1</td>\n",
       "      <td>1</td>\n",
       "      <td>1</td>\n",
       "      <td>...</td>\n",
       "      <td>1</td>\n",
       "      <td>1</td>\n",
       "      <td>1</td>\n",
       "      <td>1</td>\n",
       "      <td>1</td>\n",
       "      <td>1</td>\n",
       "      <td>1</td>\n",
       "      <td>1</td>\n",
       "      <td>1</td>\n",
       "      <td>1</td>\n",
       "    </tr>\n",
       "    <tr>\n",
       "      <th>3215</th>\n",
       "      <td>1375</td>\n",
       "      <td>CR196PGQ046Z</td>\n",
       "      <td>4705.7</td>\n",
       "      <td>1</td>\n",
       "      <td>1</td>\n",
       "      <td>1</td>\n",
       "      <td>1</td>\n",
       "      <td>1</td>\n",
       "      <td>1</td>\n",
       "      <td>1</td>\n",
       "      <td>...</td>\n",
       "      <td>1</td>\n",
       "      <td>1</td>\n",
       "      <td>1</td>\n",
       "      <td>1</td>\n",
       "      <td>1</td>\n",
       "      <td>1</td>\n",
       "      <td>1</td>\n",
       "      <td>1</td>\n",
       "      <td>1</td>\n",
       "      <td>1</td>\n",
       "    </tr>\n",
       "    <tr>\n",
       "      <th>3216</th>\n",
       "      <td>1376</td>\n",
       "      <td>CR196LHPSZ</td>\n",
       "      <td>3365.0</td>\n",
       "      <td>1</td>\n",
       "      <td>1</td>\n",
       "      <td>1</td>\n",
       "      <td>1</td>\n",
       "      <td>1</td>\n",
       "      <td>1</td>\n",
       "      <td>1</td>\n",
       "      <td>...</td>\n",
       "      <td>1</td>\n",
       "      <td>1</td>\n",
       "      <td>1</td>\n",
       "      <td>1</td>\n",
       "      <td>1</td>\n",
       "      <td>1</td>\n",
       "      <td>1</td>\n",
       "      <td>1</td>\n",
       "      <td>1</td>\n",
       "      <td>1</td>\n",
       "    </tr>\n",
       "    <tr>\n",
       "      <th>3217</th>\n",
       "      <td>1377</td>\n",
       "      <td>CR196PEQ00RZ</td>\n",
       "      <td>3673.5</td>\n",
       "      <td>1</td>\n",
       "      <td>1</td>\n",
       "      <td>1</td>\n",
       "      <td>1</td>\n",
       "      <td>1</td>\n",
       "      <td>1</td>\n",
       "      <td>1</td>\n",
       "      <td>...</td>\n",
       "      <td>1</td>\n",
       "      <td>1</td>\n",
       "      <td>1</td>\n",
       "      <td>1</td>\n",
       "      <td>1</td>\n",
       "      <td>1</td>\n",
       "      <td>1</td>\n",
       "      <td>1</td>\n",
       "      <td>1</td>\n",
       "      <td>1</td>\n",
       "    </tr>\n",
       "  </tbody>\n",
       "</table>\n",
       "<p>3218 rows × 117 columns</p>\n",
       "</div>"
      ],
      "text/plain": [
       "      plot code   Season code  Sitlav - Soybeans - Yield - KG/Ha  mean_savi2  \\\n",
       "0             0  CR196IKKIJ5Z                             3789.8           1   \n",
       "1             0  CR196LWQ0DXZ                             4666.8           1   \n",
       "2             0    CR196PUJKZ                             2451.5           1   \n",
       "3             1  CR196J6Q05CZ                             4090.0           1   \n",
       "4             1    CR196P7HHZ                             3930.6           1   \n",
       "...         ...           ...                                ...         ...   \n",
       "3213       1373  CR196NRQ0NHZ                             3386.2           1   \n",
       "3214       1374  CR196ILEIG8Z                             4283.5           1   \n",
       "3215       1375  CR196PGQ046Z                             4705.7           1   \n",
       "3216       1376    CR196LHPSZ                             3365.0           1   \n",
       "3217       1377  CR196PEQ00RZ                             3673.5           1   \n",
       "\n",
       "      min_savi2  max_savi2  skew_savi2  kurt_savi2  std_savi2  mean_ndwi  ...  \\\n",
       "0             1          1           1           1          1          1  ...   \n",
       "1             1          1           1           1          1          1  ...   \n",
       "2             1          1           1           1          1          1  ...   \n",
       "3             1          1           1           1          1          1  ...   \n",
       "4             1          1           1           1          1          1  ...   \n",
       "...         ...        ...         ...         ...        ...        ...  ...   \n",
       "3213          1          1           1           1          1          1  ...   \n",
       "3214          1          1           1           1          1          1  ...   \n",
       "3215          1          1           1           1          1          1  ...   \n",
       "3216          1          1           1           1          1          1  ...   \n",
       "3217          1          1           1           1          1          1  ...   \n",
       "\n",
       "      skew_max temp  kurt_max temp  FFc  LAd  LVAd  LVd  PVAd  PVe  RLd  RQo  \n",
       "0                 1              1    1    1     1    1     1    1    1    1  \n",
       "1                 1              1    1    1     1    1     1    1    1    1  \n",
       "2                 1              1    1    1     1    1     1    1    1    1  \n",
       "3                 1              1    1    1     1    1     1    1    1    1  \n",
       "4                 1              1    1    1     1    1     1    1    1    1  \n",
       "...             ...            ...  ...  ...   ...  ...   ...  ...  ...  ...  \n",
       "3213              1              1    1    1     1    1     1    1    1    1  \n",
       "3214              1              1    1    1     1    1     1    1    1    1  \n",
       "3215              1              1    1    1     1    1     1    1    1    1  \n",
       "3216              1              1    1    1     1    1     1    1    1    1  \n",
       "3217              1              1    1    1     1    1     1    1    1    1  \n",
       "\n",
       "[3218 rows x 117 columns]"
      ]
     },
     "execution_count": 25,
     "metadata": {},
     "output_type": "execute_result"
    }
   ],
   "source": [
    "df.groupby(['plot code', 'Season code', 'Sitlav - Soybeans - Yield - KG/Ha']).count().reset_index()"
   ]
  },
  {
   "cell_type": "markdown",
   "id": "5ad34969",
   "metadata": {},
   "source": [
    "# Data prep"
   ]
  },
  {
   "cell_type": "markdown",
   "id": "11a0e833",
   "metadata": {},
   "source": [
    "### Feature selection"
   ]
  },
  {
   "cell_type": "code",
   "execution_count": 26,
   "id": "a8c75c74",
   "metadata": {},
   "outputs": [],
   "source": [
    "y = df['Sitlav - Soybeans - Yield - KG/Ha'].copy()\n",
    "X = df.drop(['Sitlav - Soybeans - Yield - KG/Ha', 'Season code', 'plot code'], axis=1)"
   ]
  },
  {
   "cell_type": "code",
   "execution_count": 27,
   "id": "f252351c",
   "metadata": {},
   "outputs": [
    {
     "data": {
      "text/plain": [
       "((3218, 114), (3218,))"
      ]
     },
     "execution_count": 27,
     "metadata": {},
     "output_type": "execute_result"
    }
   ],
   "source": [
    "X.shape, y.shape"
   ]
  },
  {
   "cell_type": "code",
   "execution_count": 28,
   "id": "8b77ca27",
   "metadata": {},
   "outputs": [],
   "source": [
    "def feature_selection(estimator, X, y):\n",
    "    selector = SelectFromModel(estimator=estimator).fit(X, y)\n",
    "    filter_list = selector.get_support()\n",
    "    filtered_list = [x for x, condition in zip(X.columns, filter_list) if condition]\n",
    "    return (filtered_list)"
   ]
  },
  {
   "cell_type": "code",
   "execution_count": 29,
   "id": "142c268c",
   "metadata": {},
   "outputs": [],
   "source": [
    "filtered_list = feature_selection(LinearRegression(), X, y)\n",
    "# filtered_list = feature_selection(RidgeCV(), X, y)\n",
    "# filtered_list = feature_selection(LassoCV(), X, y)"
   ]
  },
  {
   "cell_type": "code",
   "execution_count": 30,
   "id": "6bb1753c",
   "metadata": {},
   "outputs": [
    {
     "name": "stdout",
     "output_type": "stream",
     "text": [
      "Number of features after selection: 10\n"
     ]
    }
   ],
   "source": [
    "print(\"Number of features after selection:\", len(filtered_list))"
   ]
  },
  {
   "cell_type": "code",
   "execution_count": 31,
   "id": "6640a214",
   "metadata": {},
   "outputs": [],
   "source": [
    "X = X[filtered_list]"
   ]
  },
  {
   "cell_type": "markdown",
   "id": "45f5bb5d",
   "metadata": {},
   "source": [
    "### Scaling features to a range"
   ]
  },
  {
   "cell_type": "code",
   "execution_count": 32,
   "id": "42bf15e1",
   "metadata": {},
   "outputs": [],
   "source": [
    "min_max_scaler = MinMaxScaler()\n",
    "max_abs_scaler = MaxAbsScaler()"
   ]
  },
  {
   "cell_type": "code",
   "execution_count": 33,
   "id": "2878c98b",
   "metadata": {},
   "outputs": [],
   "source": [
    "def Normalization(scaler, X):\n",
    "    X_train = scaler.fit_transform(X)\n",
    "    X_test = scaler.fit_transform(X)\n",
    "    return(X)"
   ]
  },
  {
   "cell_type": "code",
   "execution_count": 34,
   "id": "18fbe0eb",
   "metadata": {},
   "outputs": [],
   "source": [
    "X = Normalization(max_abs_scaler, X)"
   ]
  },
  {
   "cell_type": "markdown",
   "id": "6ebfce20",
   "metadata": {},
   "source": [
    "### Train test split"
   ]
  },
  {
   "cell_type": "code",
   "execution_count": 35,
   "id": "c993779b",
   "metadata": {},
   "outputs": [],
   "source": [
    "X_train, X_test, y_train, y_test = train_test_split(X, y, test_size=0.10, random_state=42)"
   ]
  },
  {
   "cell_type": "code",
   "execution_count": 36,
   "id": "a6367539",
   "metadata": {},
   "outputs": [
    {
     "data": {
      "text/plain": [
       "((2896, 10), (322, 10), (2896,), (322,))"
      ]
     },
     "execution_count": 36,
     "metadata": {},
     "output_type": "execute_result"
    }
   ],
   "source": [
    "X_train.shape, X_test.shape, y_train.shape, y_test.shape"
   ]
  },
  {
   "cell_type": "markdown",
   "id": "27cb70eb",
   "metadata": {},
   "source": [
    "### Building the model"
   ]
  },
  {
   "cell_type": "markdown",
   "id": "525c77e4",
   "metadata": {},
   "source": [
    "# Linear Regression model"
   ]
  },
  {
   "cell_type": "code",
   "execution_count": 37,
   "id": "1cc2d3a2",
   "metadata": {},
   "outputs": [
    {
     "data": {
      "text/html": [
       "<style>#sk-container-id-1 {color: black;background-color: white;}#sk-container-id-1 pre{padding: 0;}#sk-container-id-1 div.sk-toggleable {background-color: white;}#sk-container-id-1 label.sk-toggleable__label {cursor: pointer;display: block;width: 100%;margin-bottom: 0;padding: 0.3em;box-sizing: border-box;text-align: center;}#sk-container-id-1 label.sk-toggleable__label-arrow:before {content: \"▸\";float: left;margin-right: 0.25em;color: #696969;}#sk-container-id-1 label.sk-toggleable__label-arrow:hover:before {color: black;}#sk-container-id-1 div.sk-estimator:hover label.sk-toggleable__label-arrow:before {color: black;}#sk-container-id-1 div.sk-toggleable__content {max-height: 0;max-width: 0;overflow: hidden;text-align: left;background-color: #f0f8ff;}#sk-container-id-1 div.sk-toggleable__content pre {margin: 0.2em;color: black;border-radius: 0.25em;background-color: #f0f8ff;}#sk-container-id-1 input.sk-toggleable__control:checked~div.sk-toggleable__content {max-height: 200px;max-width: 100%;overflow: auto;}#sk-container-id-1 input.sk-toggleable__control:checked~label.sk-toggleable__label-arrow:before {content: \"▾\";}#sk-container-id-1 div.sk-estimator input.sk-toggleable__control:checked~label.sk-toggleable__label {background-color: #d4ebff;}#sk-container-id-1 div.sk-label input.sk-toggleable__control:checked~label.sk-toggleable__label {background-color: #d4ebff;}#sk-container-id-1 input.sk-hidden--visually {border: 0;clip: rect(1px 1px 1px 1px);clip: rect(1px, 1px, 1px, 1px);height: 1px;margin: -1px;overflow: hidden;padding: 0;position: absolute;width: 1px;}#sk-container-id-1 div.sk-estimator {font-family: monospace;background-color: #f0f8ff;border: 1px dotted black;border-radius: 0.25em;box-sizing: border-box;margin-bottom: 0.5em;}#sk-container-id-1 div.sk-estimator:hover {background-color: #d4ebff;}#sk-container-id-1 div.sk-parallel-item::after {content: \"\";width: 100%;border-bottom: 1px solid gray;flex-grow: 1;}#sk-container-id-1 div.sk-label:hover label.sk-toggleable__label {background-color: #d4ebff;}#sk-container-id-1 div.sk-serial::before {content: \"\";position: absolute;border-left: 1px solid gray;box-sizing: border-box;top: 0;bottom: 0;left: 50%;z-index: 0;}#sk-container-id-1 div.sk-serial {display: flex;flex-direction: column;align-items: center;background-color: white;padding-right: 0.2em;padding-left: 0.2em;position: relative;}#sk-container-id-1 div.sk-item {position: relative;z-index: 1;}#sk-container-id-1 div.sk-parallel {display: flex;align-items: stretch;justify-content: center;background-color: white;position: relative;}#sk-container-id-1 div.sk-item::before, #sk-container-id-1 div.sk-parallel-item::before {content: \"\";position: absolute;border-left: 1px solid gray;box-sizing: border-box;top: 0;bottom: 0;left: 50%;z-index: -1;}#sk-container-id-1 div.sk-parallel-item {display: flex;flex-direction: column;z-index: 1;position: relative;background-color: white;}#sk-container-id-1 div.sk-parallel-item:first-child::after {align-self: flex-end;width: 50%;}#sk-container-id-1 div.sk-parallel-item:last-child::after {align-self: flex-start;width: 50%;}#sk-container-id-1 div.sk-parallel-item:only-child::after {width: 0;}#sk-container-id-1 div.sk-dashed-wrapped {border: 1px dashed gray;margin: 0 0.4em 0.5em 0.4em;box-sizing: border-box;padding-bottom: 0.4em;background-color: white;}#sk-container-id-1 div.sk-label label {font-family: monospace;font-weight: bold;display: inline-block;line-height: 1.2em;}#sk-container-id-1 div.sk-label-container {text-align: center;}#sk-container-id-1 div.sk-container {/* jupyter's `normalize.less` sets `[hidden] { display: none; }` but bootstrap.min.css set `[hidden] { display: none !important; }` so we also need the `!important` here to be able to override the default hidden behavior on the sphinx rendered scikit-learn.org. See: https://github.com/scikit-learn/scikit-learn/issues/21755 */display: inline-block !important;position: relative;}#sk-container-id-1 div.sk-text-repr-fallback {display: none;}</style><div id=\"sk-container-id-1\" class=\"sk-top-container\"><div class=\"sk-text-repr-fallback\"><pre>LinearRegression()</pre><b>In a Jupyter environment, please rerun this cell to show the HTML representation or trust the notebook. <br />On GitHub, the HTML representation is unable to render, please try loading this page with nbviewer.org.</b></div><div class=\"sk-container\" hidden><div class=\"sk-item\"><div class=\"sk-estimator sk-toggleable\"><input class=\"sk-toggleable__control sk-hidden--visually\" id=\"sk-estimator-id-1\" type=\"checkbox\" checked><label for=\"sk-estimator-id-1\" class=\"sk-toggleable__label sk-toggleable__label-arrow\">LinearRegression</label><div class=\"sk-toggleable__content\"><pre>LinearRegression()</pre></div></div></div></div></div>"
      ],
      "text/plain": [
       "LinearRegression()"
      ]
     },
     "execution_count": 37,
     "metadata": {},
     "output_type": "execute_result"
    }
   ],
   "source": [
    "# Linear Regression model\n",
    "# Assigning the algorithm to the variable\n",
    "lr = LinearRegression()\n",
    "\n",
    "# Fitting of the model\n",
    "lr.fit(X_train, y_train)"
   ]
  },
  {
   "cell_type": "code",
   "execution_count": 38,
   "id": "a189e069",
   "metadata": {},
   "outputs": [],
   "source": [
    "lr_y_train_pred = lr.predict(X_train)\n",
    "lr_y_test_pred = lr.predict(X_test)"
   ]
  },
  {
   "cell_type": "code",
   "execution_count": 41,
   "id": "7dc9da16",
   "metadata": {},
   "outputs": [
    {
     "data": {
      "text/html": [
       "<div>\n",
       "<style scoped>\n",
       "    .dataframe tbody tr th:only-of-type {\n",
       "        vertical-align: middle;\n",
       "    }\n",
       "\n",
       "    .dataframe tbody tr th {\n",
       "        vertical-align: top;\n",
       "    }\n",
       "\n",
       "    .dataframe thead th {\n",
       "        text-align: right;\n",
       "    }\n",
       "</style>\n",
       "<table border=\"1\" class=\"dataframe\">\n",
       "  <thead>\n",
       "    <tr style=\"text-align: right;\">\n",
       "      <th></th>\n",
       "      <th>plot code</th>\n",
       "      <th>Sitlav - Soybeans - Yield - KG/Ha</th>\n",
       "      <th>mean_savi2</th>\n",
       "      <th>min_savi2</th>\n",
       "      <th>max_savi2</th>\n",
       "      <th>skew_savi2</th>\n",
       "      <th>kurt_savi2</th>\n",
       "      <th>std_savi2</th>\n",
       "      <th>mean_ndwi</th>\n",
       "      <th>min_ndwi</th>\n",
       "      <th>...</th>\n",
       "      <th>skew_max temp</th>\n",
       "      <th>kurt_max temp</th>\n",
       "      <th>FFc</th>\n",
       "      <th>LAd</th>\n",
       "      <th>LVAd</th>\n",
       "      <th>LVd</th>\n",
       "      <th>PVAd</th>\n",
       "      <th>PVe</th>\n",
       "      <th>RLd</th>\n",
       "      <th>RQo</th>\n",
       "    </tr>\n",
       "  </thead>\n",
       "  <tbody>\n",
       "    <tr>\n",
       "      <th>count</th>\n",
       "      <td>3218.000000</td>\n",
       "      <td>3218.000000</td>\n",
       "      <td>3218.000000</td>\n",
       "      <td>3218.000000</td>\n",
       "      <td>3218.000000</td>\n",
       "      <td>3218.000000</td>\n",
       "      <td>3218.000000</td>\n",
       "      <td>3218.000000</td>\n",
       "      <td>3218.000000</td>\n",
       "      <td>3218.000000</td>\n",
       "      <td>...</td>\n",
       "      <td>3218.000000</td>\n",
       "      <td>3218.000000</td>\n",
       "      <td>3218.000000</td>\n",
       "      <td>3218.000000</td>\n",
       "      <td>3218.000000</td>\n",
       "      <td>3218.000000</td>\n",
       "      <td>3218.000000</td>\n",
       "      <td>3218.000000</td>\n",
       "      <td>3218.000000</td>\n",
       "      <td>3218.000000</td>\n",
       "    </tr>\n",
       "    <tr>\n",
       "      <th>mean</th>\n",
       "      <td>610.937539</td>\n",
       "      <td>3576.861467</td>\n",
       "      <td>0.028669</td>\n",
       "      <td>0.019006</td>\n",
       "      <td>0.037503</td>\n",
       "      <td>-0.154753</td>\n",
       "      <td>-1.005721</td>\n",
       "      <td>0.009081</td>\n",
       "      <td>-0.624618</td>\n",
       "      <td>-0.780838</td>\n",
       "      <td>...</td>\n",
       "      <td>-0.172593</td>\n",
       "      <td>-0.410390</td>\n",
       "      <td>0.056868</td>\n",
       "      <td>0.007147</td>\n",
       "      <td>0.410814</td>\n",
       "      <td>0.233064</td>\n",
       "      <td>0.047234</td>\n",
       "      <td>0.001865</td>\n",
       "      <td>0.033250</td>\n",
       "      <td>0.209758</td>\n",
       "    </tr>\n",
       "    <tr>\n",
       "      <th>std</th>\n",
       "      <td>365.251800</td>\n",
       "      <td>660.466253</td>\n",
       "      <td>0.004676</td>\n",
       "      <td>0.005630</td>\n",
       "      <td>0.005707</td>\n",
       "      <td>1.031666</td>\n",
       "      <td>2.642147</td>\n",
       "      <td>0.003466</td>\n",
       "      <td>0.071646</td>\n",
       "      <td>0.069515</td>\n",
       "      <td>...</td>\n",
       "      <td>0.353708</td>\n",
       "      <td>0.414356</td>\n",
       "      <td>0.231625</td>\n",
       "      <td>0.084252</td>\n",
       "      <td>0.492058</td>\n",
       "      <td>0.422848</td>\n",
       "      <td>0.212173</td>\n",
       "      <td>0.043146</td>\n",
       "      <td>0.179318</td>\n",
       "      <td>0.407199</td>\n",
       "    </tr>\n",
       "    <tr>\n",
       "      <th>min</th>\n",
       "      <td>0.000000</td>\n",
       "      <td>285.900000</td>\n",
       "      <td>0.008726</td>\n",
       "      <td>0.002392</td>\n",
       "      <td>0.012534</td>\n",
       "      <td>-2.125023</td>\n",
       "      <td>-5.999652</td>\n",
       "      <td>0.000051</td>\n",
       "      <td>-0.837559</td>\n",
       "      <td>-0.880751</td>\n",
       "      <td>...</td>\n",
       "      <td>-1.036083</td>\n",
       "      <td>-1.224658</td>\n",
       "      <td>0.000000</td>\n",
       "      <td>0.000000</td>\n",
       "      <td>0.000000</td>\n",
       "      <td>0.000000</td>\n",
       "      <td>0.000000</td>\n",
       "      <td>0.000000</td>\n",
       "      <td>0.000000</td>\n",
       "      <td>0.000000</td>\n",
       "    </tr>\n",
       "    <tr>\n",
       "      <th>25%</th>\n",
       "      <td>294.250000</td>\n",
       "      <td>3235.500000</td>\n",
       "      <td>0.025604</td>\n",
       "      <td>0.015975</td>\n",
       "      <td>0.034615</td>\n",
       "      <td>-0.975815</td>\n",
       "      <td>-2.849101</td>\n",
       "      <td>0.006964</td>\n",
       "      <td>-0.669787</td>\n",
       "      <td>-0.826073</td>\n",
       "      <td>...</td>\n",
       "      <td>-0.445837</td>\n",
       "      <td>-0.682809</td>\n",
       "      <td>0.000000</td>\n",
       "      <td>0.000000</td>\n",
       "      <td>0.000000</td>\n",
       "      <td>0.000000</td>\n",
       "      <td>0.000000</td>\n",
       "      <td>0.000000</td>\n",
       "      <td>0.000000</td>\n",
       "      <td>0.000000</td>\n",
       "    </tr>\n",
       "    <tr>\n",
       "      <th>50%</th>\n",
       "      <td>595.000000</td>\n",
       "      <td>3600.000000</td>\n",
       "      <td>0.028527</td>\n",
       "      <td>0.017814</td>\n",
       "      <td>0.038156</td>\n",
       "      <td>-0.138377</td>\n",
       "      <td>-1.422820</td>\n",
       "      <td>0.009405</td>\n",
       "      <td>-0.625887</td>\n",
       "      <td>-0.796701</td>\n",
       "      <td>...</td>\n",
       "      <td>-0.180206</td>\n",
       "      <td>-0.468072</td>\n",
       "      <td>0.000000</td>\n",
       "      <td>0.000000</td>\n",
       "      <td>0.000000</td>\n",
       "      <td>0.000000</td>\n",
       "      <td>0.000000</td>\n",
       "      <td>0.000000</td>\n",
       "      <td>0.000000</td>\n",
       "      <td>0.000000</td>\n",
       "    </tr>\n",
       "    <tr>\n",
       "      <th>75%</th>\n",
       "      <td>895.750000</td>\n",
       "      <td>3965.950000</td>\n",
       "      <td>0.031523</td>\n",
       "      <td>0.020183</td>\n",
       "      <td>0.041093</td>\n",
       "      <td>0.549419</td>\n",
       "      <td>1.228256</td>\n",
       "      <td>0.011456</td>\n",
       "      <td>-0.583248</td>\n",
       "      <td>-0.758747</td>\n",
       "      <td>...</td>\n",
       "      <td>0.108718</td>\n",
       "      <td>-0.193907</td>\n",
       "      <td>0.000000</td>\n",
       "      <td>0.000000</td>\n",
       "      <td>1.000000</td>\n",
       "      <td>0.000000</td>\n",
       "      <td>0.000000</td>\n",
       "      <td>0.000000</td>\n",
       "      <td>0.000000</td>\n",
       "      <td>0.000000</td>\n",
       "    </tr>\n",
       "    <tr>\n",
       "      <th>max</th>\n",
       "      <td>1377.000000</td>\n",
       "      <td>10960.300000</td>\n",
       "      <td>0.046577</td>\n",
       "      <td>0.046411</td>\n",
       "      <td>0.053486</td>\n",
       "      <td>1.997825</td>\n",
       "      <td>4.592682</td>\n",
       "      <td>0.024836</td>\n",
       "      <td>-0.304926</td>\n",
       "      <td>-0.304926</td>\n",
       "      <td>...</td>\n",
       "      <td>0.773722</td>\n",
       "      <td>2.037502</td>\n",
       "      <td>1.000000</td>\n",
       "      <td>1.000000</td>\n",
       "      <td>1.000000</td>\n",
       "      <td>1.000000</td>\n",
       "      <td>1.000000</td>\n",
       "      <td>1.000000</td>\n",
       "      <td>1.000000</td>\n",
       "      <td>1.000000</td>\n",
       "    </tr>\n",
       "  </tbody>\n",
       "</table>\n",
       "<p>8 rows × 116 columns</p>\n",
       "</div>"
      ],
      "text/plain": [
       "         plot code  Sitlav - Soybeans - Yield - KG/Ha   mean_savi2  \\\n",
       "count  3218.000000                        3218.000000  3218.000000   \n",
       "mean    610.937539                        3576.861467     0.028669   \n",
       "std     365.251800                         660.466253     0.004676   \n",
       "min       0.000000                         285.900000     0.008726   \n",
       "25%     294.250000                        3235.500000     0.025604   \n",
       "50%     595.000000                        3600.000000     0.028527   \n",
       "75%     895.750000                        3965.950000     0.031523   \n",
       "max    1377.000000                       10960.300000     0.046577   \n",
       "\n",
       "         min_savi2    max_savi2   skew_savi2   kurt_savi2    std_savi2  \\\n",
       "count  3218.000000  3218.000000  3218.000000  3218.000000  3218.000000   \n",
       "mean      0.019006     0.037503    -0.154753    -1.005721     0.009081   \n",
       "std       0.005630     0.005707     1.031666     2.642147     0.003466   \n",
       "min       0.002392     0.012534    -2.125023    -5.999652     0.000051   \n",
       "25%       0.015975     0.034615    -0.975815    -2.849101     0.006964   \n",
       "50%       0.017814     0.038156    -0.138377    -1.422820     0.009405   \n",
       "75%       0.020183     0.041093     0.549419     1.228256     0.011456   \n",
       "max       0.046411     0.053486     1.997825     4.592682     0.024836   \n",
       "\n",
       "         mean_ndwi     min_ndwi  ...  skew_max temp  kurt_max temp  \\\n",
       "count  3218.000000  3218.000000  ...    3218.000000    3218.000000   \n",
       "mean     -0.624618    -0.780838  ...      -0.172593      -0.410390   \n",
       "std       0.071646     0.069515  ...       0.353708       0.414356   \n",
       "min      -0.837559    -0.880751  ...      -1.036083      -1.224658   \n",
       "25%      -0.669787    -0.826073  ...      -0.445837      -0.682809   \n",
       "50%      -0.625887    -0.796701  ...      -0.180206      -0.468072   \n",
       "75%      -0.583248    -0.758747  ...       0.108718      -0.193907   \n",
       "max      -0.304926    -0.304926  ...       0.773722       2.037502   \n",
       "\n",
       "               FFc          LAd         LVAd          LVd         PVAd  \\\n",
       "count  3218.000000  3218.000000  3218.000000  3218.000000  3218.000000   \n",
       "mean      0.056868     0.007147     0.410814     0.233064     0.047234   \n",
       "std       0.231625     0.084252     0.492058     0.422848     0.212173   \n",
       "min       0.000000     0.000000     0.000000     0.000000     0.000000   \n",
       "25%       0.000000     0.000000     0.000000     0.000000     0.000000   \n",
       "50%       0.000000     0.000000     0.000000     0.000000     0.000000   \n",
       "75%       0.000000     0.000000     1.000000     0.000000     0.000000   \n",
       "max       1.000000     1.000000     1.000000     1.000000     1.000000   \n",
       "\n",
       "               PVe          RLd          RQo  \n",
       "count  3218.000000  3218.000000  3218.000000  \n",
       "mean      0.001865     0.033250     0.209758  \n",
       "std       0.043146     0.179318     0.407199  \n",
       "min       0.000000     0.000000     0.000000  \n",
       "25%       0.000000     0.000000     0.000000  \n",
       "50%       0.000000     0.000000     0.000000  \n",
       "75%       0.000000     0.000000     0.000000  \n",
       "max       1.000000     1.000000     1.000000  \n",
       "\n",
       "[8 rows x 116 columns]"
      ]
     },
     "execution_count": 41,
     "metadata": {},
     "output_type": "execute_result"
    }
   ],
   "source": [
    "df.describe()"
   ]
  },
  {
   "cell_type": "code",
   "execution_count": 46,
   "id": "176c7879",
   "metadata": {},
   "outputs": [],
   "source": [
    "def model_evaluation(y, y_pred):\n",
    "    # Evaluate model performance\n",
    "    mse = mean_squared_error(y, y_pred)\n",
    "    rmse = np.sqrt(mse)\n",
    "    mae = np.mean(np.abs(y - y_pred))\n",
    "    r2 = r2_score(y, y_pred)\n",
    "\n",
    "    # the average squared difference between the predicted and actual values. A lower MSE indicates better performance.\n",
    "    print('MSE:', mse)\n",
    "    # square root of the MSE. A lower RMSE indicates better performance.\n",
    "    print('RMSE:', rmse)\n",
    "    # The average absolute difference between the predicted and actual values. \n",
    "    # It is less sensitive to outliers compared to the MSE and RMSE.\n",
    "    print('MAE:', mae)\n",
    "    # the dependent variable that is explained by the independent variables in the model. \n",
    "    # An R^2 value closer to 1 indicates better performance.\n",
    "    print('R^2:', r2)"
   ]
  },
  {
   "cell_type": "code",
   "execution_count": 47,
   "id": "f96e760f",
   "metadata": {},
   "outputs": [
    {
     "name": "stdout",
     "output_type": "stream",
     "text": [
      "MSE: 420410.760170615\n",
      "RMSE: 648.3909007463129\n",
      "MAE: 472.47370842202224\n",
      "R^2: 0.03712311525302914\n"
     ]
    }
   ],
   "source": [
    "model_evaluation(y_train, lr_y_train_pred)"
   ]
  },
  {
   "cell_type": "code",
   "execution_count": 48,
   "id": "f955118c",
   "metadata": {},
   "outputs": [
    {
     "name": "stdout",
     "output_type": "stream",
     "text": [
      "MSE: 414545.5126250968\n",
      "RMSE: 643.8520890896424\n",
      "MAE: 470.92213054774635\n",
      "R^2: 0.038656637129700244\n"
     ]
    }
   ],
   "source": [
    "model_evaluation(y_test, lr_y_test_pred)"
   ]
  },
  {
   "cell_type": "code",
   "execution_count": null,
   "id": "440b42ea",
   "metadata": {},
   "outputs": [],
   "source": [
    "model_evaluation(X_train, y_train, X_test, y_test)"
   ]
  },
  {
   "cell_type": "code",
   "execution_count": null,
   "id": "4fd879d9",
   "metadata": {},
   "outputs": [],
   "source": [
    "# Create scatter plot\n",
    "plt.scatter(lr_y_test_pred, y_test)\n",
    "plt.xlabel('Predicted values')\n",
    "plt.ylabel('Actual values')\n",
    "plt.title('Scatter plot of predicted vs actual values')\n",
    "plt.show()"
   ]
  },
  {
   "cell_type": "code",
   "execution_count": null,
   "id": "cb290731",
   "metadata": {},
   "outputs": [],
   "source": [
    "# Create residual plot lc_y_train_pred, \n",
    "residuals = y_test - lr_y_test_pred\n",
    "# Create histogram of residuals\n",
    "plt.hist(residuals, bins=20)\n",
    "plt.xlabel('Residuals')\n",
    "plt.ylabel('Frequency')\n",
    "plt.title('Histogram of residuals')\n",
    "plt.show()"
   ]
  },
  {
   "cell_type": "markdown",
   "id": "12652bf4",
   "metadata": {},
   "source": [
    "### The residuals are normally distributed"
   ]
  },
  {
   "cell_type": "code",
   "execution_count": null,
   "id": "4aac4062",
   "metadata": {},
   "outputs": [],
   "source": [
    "# Create Q-Q plot of residuals\n",
    "import scipy.stats as stats\n",
    "stats.probplot(residuals, dist=\"norm\", plot=plt)\n",
    "plt.title('residuals Q-Q plot')\n",
    "plt.show()"
   ]
  },
  {
   "cell_type": "code",
   "execution_count": null,
   "id": "f3d86fd2",
   "metadata": {},
   "outputs": [],
   "source": [
    "from sklearn.preprocessing import PolynomialFeatures"
   ]
  },
  {
   "cell_type": "code",
   "execution_count": null,
   "id": "3bcd714e",
   "metadata": {},
   "outputs": [],
   "source": [
    "poly = PolynomialFeatures(2)"
   ]
  },
  {
   "cell_type": "code",
   "execution_count": null,
   "id": "2d647add",
   "metadata": {},
   "outputs": [],
   "source": [
    "poly.fit_transform(X_train)"
   ]
  },
  {
   "cell_type": "code",
   "execution_count": null,
   "id": "d5be14e8",
   "metadata": {},
   "outputs": [],
   "source": []
  },
  {
   "cell_type": "markdown",
   "id": "0addfa35",
   "metadata": {},
   "source": [
    "# RidgeCV model"
   ]
  },
  {
   "cell_type": "code",
   "execution_count": null,
   "id": "84773d30",
   "metadata": {},
   "outputs": [],
   "source": [
    "# RidgeCV model\n",
    "# Assigning the algorithm to the variable\n",
    "rc = RidgeCV()\n",
    "\n",
    "# Fitting of the model\n",
    "rc.fit(X_train,y_train)"
   ]
  },
  {
   "cell_type": "code",
   "execution_count": null,
   "id": "d09061a9",
   "metadata": {},
   "outputs": [],
   "source": [
    "rc_y_train_pred = rc.predict(X_train)\n",
    "rc_y_test_pred = rc.predict(X_test)"
   ]
  },
  {
   "cell_type": "code",
   "execution_count": null,
   "id": "35ade806",
   "metadata": {},
   "outputs": [],
   "source": [
    "model_evaluation(X_train, y_train, X_test, y_test, rc)"
   ]
  },
  {
   "cell_type": "code",
   "execution_count": null,
   "id": "2f982da6",
   "metadata": {},
   "outputs": [],
   "source": [
    "# Create scatter plot\n",
    "plt.scatter(rc_y_test_pred, y_test)\n",
    "plt.xlabel('Predicted values')\n",
    "plt.ylabel('Actual values')\n",
    "plt.title('Scatter plot of predicted vs actual values')\n",
    "plt.show()"
   ]
  },
  {
   "cell_type": "code",
   "execution_count": null,
   "id": "6f80d0e1",
   "metadata": {},
   "outputs": [],
   "source": [
    "# Create Q-Q plot of residuals\n",
    "import scipy.stats as stats\n",
    "stats.probplot(residuals, dist=\"norm\", plot=plt)\n",
    "plt.title('residuals Q-Q plot')\n",
    "plt.show()"
   ]
  },
  {
   "cell_type": "markdown",
   "id": "a9806949",
   "metadata": {},
   "source": [
    "# LassoCV model"
   ]
  },
  {
   "cell_type": "code",
   "execution_count": null,
   "id": "5524b700",
   "metadata": {},
   "outputs": [],
   "source": [
    "# LassoCV model\n",
    "# Assigning the algorithm to the variable\n",
    "lc = LassoCV()\n",
    "\n",
    "# Fitting of the model\n",
    "lc.fit(X_train,y_train)"
   ]
  },
  {
   "cell_type": "code",
   "execution_count": null,
   "id": "75c81ec6",
   "metadata": {},
   "outputs": [],
   "source": [
    "lc_y_train_pred = lc.predict(X_train)\n",
    "lc_y_test_pred = lc.predict(X_test)"
   ]
  },
  {
   "cell_type": "code",
   "execution_count": null,
   "id": "90cd55d9",
   "metadata": {},
   "outputs": [],
   "source": [
    "# Create scatter plot\n",
    "plt.scatter(lc_y_test_pred, y_test)\n",
    "plt.xlabel('Predicted values')\n",
    "plt.ylabel('Actual values')\n",
    "plt.title('Scatter plot of predicted vs actual values')\n",
    "plt.show()"
   ]
  },
  {
   "cell_type": "code",
   "execution_count": null,
   "id": "d1d01853",
   "metadata": {},
   "outputs": [],
   "source": [
    "model_evaluation(X_train, y_train, X_test, y_test, lc)"
   ]
  },
  {
   "cell_type": "code",
   "execution_count": null,
   "id": "aec33e01",
   "metadata": {},
   "outputs": [],
   "source": [
    "# Create residual plot lc_y_train_pred, \n",
    "residuals = y_test - lc_y_test_pred\n",
    "# Create histogram of residuals\n",
    "plt.hist(residuals, bins=20)\n",
    "plt.xlabel('Residuals')\n",
    "plt.ylabel('Frequency')\n",
    "plt.title('Histogram of residuals')\n",
    "plt.show()"
   ]
  },
  {
   "cell_type": "code",
   "execution_count": null,
   "id": "807d8c52",
   "metadata": {},
   "outputs": [],
   "source": [
    "# Create Q-Q plot of residuals\n",
    "import scipy.stats as stats\n",
    "stats.probplot(residuals, dist=\"norm\", plot=plt)\n",
    "plt.title('residuals Q-Q plot')\n",
    "plt.show()"
   ]
  },
  {
   "cell_type": "code",
   "execution_count": null,
   "id": "e58cb782",
   "metadata": {},
   "outputs": [],
   "source": [
    "# Create box plot of residuals\n",
    "plt.boxplot(residuals)\n",
    "plt.ylabel('Residuals')\n",
    "plt.title('Box plot of residuals')\n",
    "plt.show()"
   ]
  },
  {
   "cell_type": "code",
   "execution_count": null,
   "id": "37c6162b",
   "metadata": {},
   "outputs": [],
   "source": []
  },
  {
   "cell_type": "code",
   "execution_count": null,
   "id": "503e88d1",
   "metadata": {},
   "outputs": [],
   "source": []
  },
  {
   "cell_type": "code",
   "execution_count": null,
   "id": "11db2318",
   "metadata": {},
   "outputs": [],
   "source": [
    "print(f\"x_train shape {X.shape}\")\n",
    "print(f\"y_train shape {y.shape}\")\n",
    "print(f\"x_test shape {X.shape}\")\n",
    "print(f\"y_test shape {y.shape}\")"
   ]
  },
  {
   "cell_type": "code",
   "execution_count": null,
   "id": "f564352a",
   "metadata": {},
   "outputs": [],
   "source": [
    "plt.scatter(X_train['std_phen_savi2_2'], y_train, color = 'red')\n",
    "plt.xlabel('std_phen_savi2_2')\n",
    "plt.ylabel('Sitlav - Soybeans - Yield - KG/Ha')\n",
    "plt.show()"
   ]
  },
  {
   "cell_type": "code",
   "execution_count": null,
   "id": "5ecf74da",
   "metadata": {},
   "outputs": [],
   "source": [
    "X.describe()"
   ]
  },
  {
   "cell_type": "code",
   "execution_count": null,
   "id": "ac2bd551",
   "metadata": {},
   "outputs": [],
   "source": [
    "plt.scatter(X_train['kurt_phen_savi2_1'], y_train, color = \"blue\")\n",
    "#plt.plot(X_test['kurt_phen_savi2_1'], lr_y_test_pred, color = \"red\")\n",
    "plt.xlabel('kurt_phen_savi2_1', color = \"purple\")\n",
    "plt.ylabel('Sitlav - Soybeans - Yield - KG/Ha', color = \"purple\")\n",
    "plt.title('Trained model plot', color = \"purple\")\n",
    "plt.plot;"
   ]
  }
 ],
 "metadata": {
  "kernelspec": {
   "display_name": "Python 3 (ipykernel)",
   "language": "python",
   "name": "python3"
  },
  "language_info": {
   "codemirror_mode": {
    "name": "ipython",
    "version": 3
   },
   "file_extension": ".py",
   "mimetype": "text/x-python",
   "name": "python",
   "nbconvert_exporter": "python",
   "pygments_lexer": "ipython3",
   "version": "3.10.10"
  }
 },
 "nbformat": 4,
 "nbformat_minor": 5
}
