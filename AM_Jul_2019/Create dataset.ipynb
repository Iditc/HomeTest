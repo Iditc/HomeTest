{
 "cells": [
  {
   "cell_type": "code",
   "execution_count": 1,
   "metadata": {},
   "outputs": [],
   "source": [
    "from mnist import MNIST\n",
    "import warnings\n",
    "warnings.filterwarnings(\"ignore\")"
   ]
  },
  {
   "cell_type": "code",
   "execution_count": 2,
   "metadata": {},
   "outputs": [
    {
     "name": "stderr",
     "output_type": "stream",
     "text": [
      "Using TensorFlow backend.\n"
     ]
    }
   ],
   "source": [
    "from typing import Tuple\n",
    "import chainer\n",
    "import matplotlib\n",
    "import matplotlib.pyplot as plt\n",
    "%matplotlib inline\n",
    "import numpy as np\n",
    "from keras.datasets import mnist"
   ]
  },
  {
   "cell_type": "code",
   "execution_count": 15,
   "metadata": {},
   "outputs": [],
   "source": [
    "import keras.backend as K\n",
    "import pandas as pd\n",
    "import random, os, math\n",
    "from sklearn.ensemble import RandomForestClassifier\n",
    "from sklearn.datasets import make_classification\n",
    "from sklearn.metrics import confusion_matrix\n",
    "from sklearn.model_selection import train_test_split\n",
    "from scipy.sparse import csr_matrix\n",
    "from scipy.sparse.csgraph import minimum_spanning_tree\n",
    "import networkx as nx\n",
    "from sklearn import preprocessing"
   ]
  },
  {
   "cell_type": "markdown",
   "metadata": {},
   "source": [
    "## Read the dataset MINST"
   ]
  },
  {
   "cell_type": "code",
   "execution_count": 4,
   "metadata": {},
   "outputs": [
    {
     "name": "stdout",
     "output_type": "stream",
     "text": [
      "(60000,) (60000, 28, 28) (10000,) (10000, 28, 28)\n"
     ]
    }
   ],
   "source": [
    "(x_train, y_train), (x_test, y_test) = mnist.load_data()\n",
    "print(y_train.shape, x_train.shape, y_test.shape, x_test.shape)"
   ]
  },
  {
   "cell_type": "code",
   "execution_count": 31,
   "metadata": {},
   "outputs": [
    {
     "name": "stdout",
     "output_type": "stream",
     "text": [
      "Train shape   : (60000, 28, 28)\n",
      "Test shape    : (10000, 28, 28)\n"
     ]
    }
   ],
   "source": [
    "print (\"Train shape   :\", x_train.shape)\n",
    "print (\"Test shape    :\", x_test.shape)"
   ]
  },
  {
   "cell_type": "markdown",
   "metadata": {},
   "source": [
    "## Merge the training and testing datasets into one single one big dataset."
   ]
  },
  {
   "cell_type": "code",
   "execution_count": 5,
   "metadata": {},
   "outputs": [],
   "source": [
    "x = np.concatenate((x_train, x_test), axis=0)"
   ]
  },
  {
   "cell_type": "code",
   "execution_count": 6,
   "metadata": {},
   "outputs": [],
   "source": [
    "y = np.concatenate((y_train, y_test), axis=0)\n",
    "Y = y.reshape((70000,1))"
   ]
  },
  {
   "cell_type": "markdown",
   "metadata": {},
   "source": [
    "## Visualization of examples"
   ]
  },
  {
   "cell_type": "code",
   "execution_count": 7,
   "metadata": {},
   "outputs": [
    {
     "data": {
      "image/png": "[encoded data removed]",
      "text/plain": [
       "<Figure size 432x288 with 20 Axes>"
      ]
     },
     "metadata": {
      "needs_background": "light"
     },
     "output_type": "display_data"
    }
   ],
   "source": [
    "ROW = 4\n",
    "COLUMN = 5\n",
    "for i in range(ROW * COLUMN):\n",
    "    #print (y.iloc[i].values[0])\n",
    "    # train[i][0] is i-th image data with size 28x28\n",
    "    image = x[i].reshape(28, 28)   # not necessary to reshape if ndim is set to 2\n",
    "    plt.subplot(ROW, COLUMN, i+1)          # subplot with size (width 3, height 5)\n",
    "    plt.imshow(image, cmap='gray')  # cmap='gray' is for black and white picture.\n",
    "    plt.title('label = {}'.format(Y[i]))\n",
    "    plt.axis('off')  # do not show axis value\n",
    "plt.tight_layout()   # automatic padding between subplots\n",
    "#plt.savefig('mnist_plot.png')\n",
    "plt.show()"
   ]
  },
  {
   "cell_type": "code",
   "execution_count": 8,
   "metadata": {},
   "outputs": [],
   "source": [
    "# reshape the array x into a 2d for the fit function\n",
    "nsamples, nx, ny = x.shape\n",
    "X = x.reshape((nsamples,nx*ny))"
   ]
  },
  {
   "cell_type": "code",
   "execution_count": 9,
   "metadata": {},
   "outputs": [],
   "source": [
    "def Random_Forest (x, y):\n",
    "    # Split the data into 40% test and 60% training\n",
    "    x_train, x_test, y_train, y_test = train_test_split(x, y, test_size=0.4, random_state=0)\n",
    "    # Create a random forest classifier\n",
    "    clf = RandomForestClassifier(max_depth=3, n_estimators=100, n_jobs=-1, random_state=0)\n",
    "    # Train the classifier\n",
    "    clf.fit(x_train, y_train)\n",
    "    y_pred = clf.predict(x_test)\n",
    "    cm = confusion_matrix(y_test, y_pred)\n",
    "    return (cm)"
   ]
  },
  {
   "cell_type": "code",
   "execution_count": 10,
   "metadata": {},
   "outputs": [],
   "source": [
    "confusion_matrix = Random_Forest (X, y)"
   ]
  },
  {
   "cell_type": "code",
   "execution_count": 11,
   "metadata": {},
   "outputs": [
    {
     "data": {
      "text/plain": [
       "array([[2698,    1,    7,   10,    1,    0,   49,   21,   23,    2],\n",
       "       [   1, 3128,   25,    3,    1,    0,    4,    8,    6,    3],\n",
       "       [  87,  332, 2013,   42,   31,    0,  104,  123,   43,   12],\n",
       "       [ 133,  273,   82, 2059,   19,    9,   18,   94,   33,   95],\n",
       "       [  24,   40,   20,    5, 2129,    0,   93,   95,   16,  256],\n",
       "       [ 327,  230,   29,  731,  131,  539,  112,  114,   92,  218],\n",
       "       [ 137,  102,   70,   15,   78,    6, 2277,   39,   15,    1],\n",
       "       [  29,  144,   65,    0,   42,    0,    3, 2550,   11,   83],\n",
       "       [  47,  567,  109,  154,   39,    6,   77,   42, 1519,  156],\n",
       "       [  30,   84,   34,   39,  236,    0,   32,  383,   30, 1955]],\n",
       "      dtype=int64)"
      ]
     },
     "execution_count": 11,
     "metadata": {},
     "output_type": "execute_result"
    }
   ],
   "source": [
    "confusion_matrix.reshape((10,10))"
   ]
  },
  {
   "cell_type": "code",
   "execution_count": 12,
   "metadata": {},
   "outputs": [],
   "source": [
    "mc = np.zeros((10, 10))\n",
    "for j in range(0,10):\n",
    "    for k in range(0,10):\n",
    "        mc[j][k] = confusion_matrix[j][k]+confusion_matrix[k][j]"
   ]
  },
  {
   "cell_type": "code",
   "execution_count": 13,
   "metadata": {},
   "outputs": [
    {
     "data": {
      "text/plain": [
       "array([[5396,    2,   94,  143,   25,  327,  186,   50,   70,   32],\n",
       "       [   2, 6256,  357,  276,   41,  230,  106,  152,  573,   87],\n",
       "       [  94,  357, 4026,  124,   51,   29,  174,  188,  152,   46],\n",
       "       [ 143,  276,  124, 4118,   24,  740,   33,   94,  187,  134],\n",
       "       [  25,   41,   51,   24, 4258,  131,  171,  137,   55,  492],\n",
       "       [ 327,  230,   29,  740,  131, 1078,  118,  114,   98,  218],\n",
       "       [ 186,  106,  174,   33,  171,  118, 4554,   42,   92,   33],\n",
       "       [  50,  152,  188,   94,  137,  114,   42, 5100,   53,  466],\n",
       "       [  70,  573,  152,  187,   55,   98,   92,   53, 3038,  186],\n",
       "       [  32,   87,   46,  134,  492,  218,   33,  466,  186, 3910]])"
      ]
     },
     "execution_count": 13,
     "metadata": {},
     "output_type": "execute_result"
    }
   ],
   "source": [
    "mc.astype(int)"
   ]
  },
  {
   "cell_type": "markdown",
   "metadata": {},
   "source": [
    "## G is a graph presentation of colectiv confusion_matrix"
   ]
  },
  {
   "cell_type": "code",
   "execution_count": 16,
   "metadata": {},
   "outputs": [],
   "source": [
    "G = nx.from_numpy_matrix(mc) # convert to graph\n",
    "most_confusable = nx.maximum_spanning_tree(G) # calc maximum spanning tree "
   ]
  },
  {
   "cell_type": "markdown",
   "metadata": {},
   "source": [
    "## greedy_color\n",
    "Color a graph using various strategies of greedy graph coloring.\n",
    "Attempts to color a graph using as few colors as possible, \n",
    "where no neighbours of a node can have same color as the node itself. \n",
    "The given strategy determines the order in which nodes are colored."
   ]
  },
  {
   "cell_type": "code",
   "execution_count": 17,
   "metadata": {},
   "outputs": [],
   "source": [
    "d = nx.coloring.greedy_color(most_confusable, strategy='largest_first') # We then two-color this tree so that no adjacent nodes have the same color "
   ]
  },
  {
   "cell_type": "markdown",
   "metadata": {},
   "source": [
    "### Let as set 0 for “normal” and 1 for “anomalous” acording to d"
   ]
  },
  {
   "cell_type": "code",
   "execution_count": 18,
   "metadata": {},
   "outputs": [],
   "source": [
    "accordingnormal_classes = []\n",
    "anomalous_classes = []\n",
    "for key, value in d.items():\n",
    "    if value == 0:\n",
    "        normal_classes.append(key)\n",
    "    else:\n",
    "        anomalous_classes.append(key)"
   ]
  },
  {
   "cell_type": "markdown",
   "metadata": {},
   "source": [
    "## Data cleaning"
   ]
  },
  {
   "cell_type": "code",
   "execution_count": 19,
   "metadata": {},
   "outputs": [],
   "source": [
    "X_df = pd.DataFrame(X)"
   ]
  },
  {
   "cell_type": "code",
   "execution_count": 20,
   "metadata": {},
   "outputs": [
    {
     "name": "stdout",
     "output_type": "stream",
     "text": [
      "<class 'pandas.core.frame.DataFrame'>\n",
      "RangeIndex: 70000 entries, 0 to 69999\n",
      "Columns: 784 entries, 0 to 783\n",
      "dtypes: uint8(784)\n",
      "memory usage: 52.3 MB\n"
     ]
    }
   ],
   "source": [
    "# deleting empty columns\n",
    "X_df.info() # to fined emty data\n",
    "X_df.dropna(axis='columns', how=\"all\", inplace=True)\n",
    "# deleting empty row\n",
    "X_df.dropna(how=\"all\", inplace=True)"
   ]
  },
  {
   "cell_type": "markdown",
   "metadata": {},
   "source": [
    "## Scaling features to a range"
   ]
  },
  {
   "cell_type": "code",
   "execution_count": 21,
   "metadata": {},
   "outputs": [],
   "source": [
    "min_max_scaler = preprocessing.MinMaxScaler()\n",
    "X_df_minmax = min_max_scaler.fit_transform(X_df)"
   ]
  },
  {
   "cell_type": "code",
   "execution_count": 22,
   "metadata": {},
   "outputs": [],
   "source": [
    "X_minmax_df = pd.DataFrame(X_df_minmax)"
   ]
  },
  {
   "cell_type": "code",
   "execution_count": 23,
   "metadata": {},
   "outputs": [],
   "source": [
    "# adding the Label\n",
    "S = np.concatenate((X_minmax_df, Y), axis=1)"
   ]
  },
  {
   "cell_type": "code",
   "execution_count": 24,
   "metadata": {},
   "outputs": [],
   "source": [
    "# converting numpay array to Pandas DataFrame\n",
    "df = pd.DataFrame(S)"
   ]
  },
  {
   "cell_type": "code",
   "execution_count": 25,
   "metadata": {},
   "outputs": [],
   "source": [
    "df = df.rename(columns={784: 'Label'})"
   ]
  },
  {
   "cell_type": "code",
   "execution_count": 26,
   "metadata": {},
   "outputs": [],
   "source": [
    "anomalous_classes_df = df.copy()\n",
    "# anomalous_classes DataFrame \n",
    "for i in normal_classes:\n",
    "    anomalous_classes_df.drop(df[df['Label'] == i].index, inplace=True)\n",
    "    anomalous_classes_df = pd.DataFrame(anomalous_classes_df)"
   ]
  },
  {
   "cell_type": "code",
   "execution_count": 27,
   "metadata": {},
   "outputs": [],
   "source": [
    "# randomly select 5% of the anomalous_classes \n",
    "anomalous_classes_df = anomalous_classes_df.sample(frac=0.05, random_state=1)"
   ]
  },
  {
   "cell_type": "code",
   "execution_count": 28,
   "metadata": {},
   "outputs": [],
   "source": [
    "normal_classes_df = df.copy()\n",
    "# normal_classes DataFrame \n",
    "for i in anomalous_classes:\n",
    "    normal_classes_df.drop(df[df['Label'] == i].index, inplace=True)\n",
    "    normal_classes_df = pd.DataFrame(normal_classes_df)"
   ]
  },
  {
   "cell_type": "code",
   "execution_count": 29,
   "metadata": {},
   "outputs": [],
   "source": [
    "# Save to file \n",
    "normal_classes_df.to_csv('normal_classes_df.csv', index = None, header=True)\n",
    "anomalous_classes_df.to_csv('outliers_classes_df.csv', index = None, header=True)"
   ]
  }
 ],
 "metadata": {
  "kernelspec": {
   "display_name": "Python 3",
   "language": "python",
   "name": "python3"
  },
  "language_info": {
   "codemirror_mode": {
    "name": "ipython",
    "version": 3
   },
   "file_extension": ".py",
   "mimetype": "text/x-python",
   "name": "python",
   "nbconvert_exporter": "python",
   "pygments_lexer": "ipython3",
   "version": "3.6.7"
  }
 },
 "nbformat": 4,
 "nbformat_minor": 2
}
